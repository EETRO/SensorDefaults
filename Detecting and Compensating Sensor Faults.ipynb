{
 "cells": [
  {
   "cell_type": "markdown",
   "metadata": {},
   "source": [
    "# Detecting and Compensating Sensor Faults in a Hydraulic Condition Monitoring System"
   ]
  },
  {
   "cell_type": "markdown",
   "metadata": {},
   "source": [
    "Sep 2018"
   ]
  },
  {
   "cell_type": "markdown",
   "metadata": {},
   "source": [
    "By Yujun Zhou"
   ]
  },
  {
   "cell_type": "code",
   "execution_count": 1,
   "metadata": {},
   "outputs": [],
   "source": [
    "# import necessary modules\n",
    "import numpy as np\n",
    "import pandas as pd\n",
    "import matplotlib.pyplot as plt\n",
    "import seaborn as sns\n",
    "import glob\n",
    "import errno\n",
    "from tsfresh import select_features\n",
    "from tsfresh import extract_features\n",
    "from tsfresh.utilities.dataframe_functions import impute\n",
    "from tsfresh import extract_relevant_features\n",
    "from functools import reduce\n",
    "from sklearn.model_selection import GridSearchCV\n",
    "\n",
    "\n",
    "# suppress Pandas warnings for more readbility\n",
    "import warnings\n",
    "warnings.filterwarnings(\"ignore\")\n",
    "\n",
    "sns.set_style('white')\n",
    "\n",
    "\n",
    "from sklearn.model_selection import train_test_split\n",
    "from sklearn.utils import check_random_state\n",
    "from sklearn.metrics import accuracy_score\n",
    "from sklearn.tree import DecisionTreeClassifier\n",
    "from sklearn.cross_validation import train_test_split\n",
    "from sklearn.metrics import classification_report\n",
    "from sklearn.ensemble import RandomForestClassifier\n",
    "from sklearn import svm\n"
   ]
  },
  {
   "cell_type": "markdown",
   "metadata": {},
   "source": [
    "### Data cleaning and validation"
   ]
  },
  {
   "cell_type": "markdown",
   "metadata": {},
   "source": [
    "### Target condition"
   ]
  },
  {
   "cell_type": "markdown",
   "metadata": {},
   "source": [
    "The target condition values are cycle-wise annotated in profile.txt (tab-delimited). \n",
    "As before, the row number represents the cycle number.\n",
    "\n",
    "All but number 5 (stable flag) describe degradation processes over time and, thus, their values do not represent distinct categories, but continuous values.\n",
    "\n",
    "The columns are \n",
    "\n",
    "1: Cooler condition / %: \n",
    "3: close to total failure \n",
    "20: reduced effifiency \n",
    "100: full efficiency \n",
    "\n",
    "2: Valve condition / %: \n",
    "100: optimal switching behavior \n",
    "90: small lag \n",
    "80: severe lag \n",
    "73: close to total failure \n",
    "\n",
    "3: Internal pump leakage: \n",
    "0: no leakage \n",
    "1: weak leakage \n",
    "2: severe leakage \n",
    "\n",
    "4: Hydraulic accumulator / bar: \n",
    "130: optimal pressure \n",
    "115: slightly reduced pressure \n",
    "100: severely reduced pressure \n",
    "90: close to total failure \n",
    "\n",
    "5: stable flag: \n",
    "0: conditions were stable \n",
    "1: static conditions might not have been reached yet"
   ]
  },
  {
   "cell_type": "code",
   "execution_count": 2,
   "metadata": {},
   "outputs": [
    {
     "data": {
      "text/html": [
       "<div>\n",
       "<style scoped>\n",
       "    .dataframe tbody tr th:only-of-type {\n",
       "        vertical-align: middle;\n",
       "    }\n",
       "\n",
       "    .dataframe tbody tr th {\n",
       "        vertical-align: top;\n",
       "    }\n",
       "\n",
       "    .dataframe thead th {\n",
       "        text-align: right;\n",
       "    }\n",
       "</style>\n",
       "<table border=\"1\" class=\"dataframe\">\n",
       "  <thead>\n",
       "    <tr style=\"text-align: right;\">\n",
       "      <th></th>\n",
       "      <th>cooler_condition</th>\n",
       "      <th>valve_condition</th>\n",
       "      <th>pump_leak</th>\n",
       "      <th>hydraulic_accumulator</th>\n",
       "      <th>stable_flag</th>\n",
       "    </tr>\n",
       "  </thead>\n",
       "  <tbody>\n",
       "    <tr>\n",
       "      <th>0</th>\n",
       "      <td>3</td>\n",
       "      <td>100</td>\n",
       "      <td>0</td>\n",
       "      <td>130</td>\n",
       "      <td>1</td>\n",
       "    </tr>\n",
       "    <tr>\n",
       "      <th>1</th>\n",
       "      <td>3</td>\n",
       "      <td>100</td>\n",
       "      <td>0</td>\n",
       "      <td>130</td>\n",
       "      <td>1</td>\n",
       "    </tr>\n",
       "    <tr>\n",
       "      <th>2</th>\n",
       "      <td>3</td>\n",
       "      <td>100</td>\n",
       "      <td>0</td>\n",
       "      <td>130</td>\n",
       "      <td>1</td>\n",
       "    </tr>\n",
       "    <tr>\n",
       "      <th>3</th>\n",
       "      <td>3</td>\n",
       "      <td>100</td>\n",
       "      <td>0</td>\n",
       "      <td>130</td>\n",
       "      <td>1</td>\n",
       "    </tr>\n",
       "    <tr>\n",
       "      <th>4</th>\n",
       "      <td>3</td>\n",
       "      <td>100</td>\n",
       "      <td>0</td>\n",
       "      <td>130</td>\n",
       "      <td>1</td>\n",
       "    </tr>\n",
       "  </tbody>\n",
       "</table>\n",
       "</div>"
      ],
      "text/plain": [
       "   cooler_condition  valve_condition  pump_leak  hydraulic_accumulator  \\\n",
       "0                 3              100          0                    130   \n",
       "1                 3              100          0                    130   \n",
       "2                 3              100          0                    130   \n",
       "3                 3              100          0                    130   \n",
       "4                 3              100          0                    130   \n",
       "\n",
       "   stable_flag  \n",
       "0            1  \n",
       "1            1  \n",
       "2            1  \n",
       "3            1  \n",
       "4            1  "
      ]
     },
     "execution_count": 2,
     "metadata": {},
     "output_type": "execute_result"
    }
   ],
   "source": [
    "# Load in the target variables as a Pandas DataFrame\n",
    "names = ['cooler_condition', 'valve_condition', 'pump_leak', 'hydraulic_accumulator', 'stable_flag']\n",
    "\n",
    "condition = pd.read_csv('target/profile.txt',delim_whitespace=True,header=None,names =names)\n",
    "\n",
    "# Preview the first few lines\n",
    "condition.head()"
   ]
  },
  {
   "cell_type": "code",
   "execution_count": 3,
   "metadata": {},
   "outputs": [
    {
     "name": "stdout",
     "output_type": "stream",
     "text": [
      "[  3  20 100]\n",
      "[100  73  80  90]\n",
      "[0 2 1]\n",
      "[130 115 100  90]\n",
      "[1 0]\n"
     ]
    }
   ],
   "source": [
    "# check for irregular values and there was none\n",
    "for i in enumerate(list(names)):\n",
    "    print(pd.unique(condition[i[1]]))"
   ]
  },
  {
   "cell_type": "markdown",
   "metadata": {},
   "source": [
    "Visualization of the target variables"
   ]
  },
  {
   "cell_type": "code",
   "execution_count": 4,
   "metadata": {
    "scrolled": true
   },
   "outputs": [
    {
     "data": {
      "text/plain": [
       "<matplotlib.axes._subplots.AxesSubplot at 0x1a60d4a92b0>"
      ]
     },
     "execution_count": 4,
     "metadata": {},
     "output_type": "execute_result"
    },
    {
     "data": {
      "image/png": "[encoded data removed]",
      "text/plain": [
       "<Figure size 504x1800 with 5 Axes>"
      ]
     },
     "metadata": {},
     "output_type": "display_data"
    }
   ],
   "source": [
    "# Construct 5 subplots for the 5 target variables    \n",
    "figure,(ax1, ax2,ax3,ax4,ax5) = plt.subplots(figsize=(7, 25 ), \n",
    "                       nrows=condition.shape[1], ncols=1,sharex = False)\n",
    "# \n",
    "sns.distplot(condition[names[0]], hist=True, color = 'darkblue',ax=ax1)\n",
    "sns.distplot(condition[names[1]], hist=True,color = 'darkblue',ax=ax2)\n",
    "sns.distplot(condition[names[2]], hist=True, color = 'darkblue',ax=ax3)\n",
    "sns.distplot(condition[names[3]], hist=True,color = 'darkblue',ax=ax4)\n",
    "sns.distplot(condition[names[4]], hist=True, color = 'darkblue',ax=ax5)"
   ]
  },
  {
   "cell_type": "markdown",
   "metadata": {},
   "source": [
    "### Load the feature time series data "
   ]
  },
  {
   "cell_type": "code",
   "execution_count": 5,
   "metadata": {},
   "outputs": [],
   "source": [
    "# import all the feature variables at once\n",
    "path = 'features/*.txt'\n",
    "# find all the txt files in the path \n",
    "files = glob.glob(path)\n",
    "# use a dict to save all the variables \n",
    "features = {}\n",
    "\n",
    "for name in files:\n",
    "    try:\n",
    "        with open(name) as f:\n",
    "            # read in the data \n",
    "            temp_df = pd.read_csv(name,delim_whitespace=True,header=None)\n",
    "            # make the row names cycle as a variable\n",
    "            temp_df.index.name = 'cycle'\n",
    "            temp_df.reset_index(inplace=True)\n",
    "            # transpose the data \n",
    "            temp_df_transposed= temp_df.T\n",
    "            # make the seconds a variable, call it \"time”\n",
    "            temp_df_transposed.index.name = 'time'\n",
    "            temp_df_transposed.reset_index(inplace=True)\n",
    "            # add a prefix cycle in the column names to help with pivoting data (from wide to long)\n",
    "            string = ' cycle'.join(str(e) for e in list(temp_df_transposed.columns))\n",
    "            temp_df_transposed.columns = string.split(\" \")\n",
    "            # From wide to long to help with joining all the variables \n",
    "            temp_df_long = pd.wide_to_long(temp_df_transposed.iloc[1:,:],stubnames='cycle', i=['time'], j='c')\n",
    "            temp_df_long.reset_index(inplace=True)\n",
    "            # save each data variable in the long format into separate data frames in the dictionary called \"features\"\n",
    "            # but exclude path and txt in the names\n",
    "            features[name[9:-4]] = temp_df_long\n",
    "                        \n",
    "           \n",
    "    \n",
    "    # prevent a possible error\n",
    "    except IOError as exc:\n",
    "        if exc.errno != errno.EISDIR:\n",
    "            raise\n",
    "            "
   ]
  },
  {
   "cell_type": "code",
   "execution_count": 6,
   "metadata": {},
   "outputs": [],
   "source": [
    "# rename the columns of the variables \n",
    "keylist = list(features.keys())\n",
    "\n",
    "for key in keylist:\n",
    "    features[key].columns=['seconds','cycle',key]"
   ]
  },
  {
   "cell_type": "code",
   "execution_count": 7,
   "metadata": {
    "scrolled": true
   },
   "outputs": [
    {
     "data": {
      "image/png": "[encoded data removed]",
      "text/plain": [
       "<Figure size 720x720 with 3 Axes>"
      ]
     },
     "metadata": {},
     "output_type": "display_data"
    }
   ],
   "source": [
    "# show an example figure of sensor changes in 60 seconds\n",
    "features['CP'][features['CP']['cycle']==100].plot(subplots=True, sharex=True, figsize=(10,10))\n",
    "plt.show()"
   ]
  },
  {
   "cell_type": "markdown",
   "metadata": {},
   "source": [
    "### Data Description"
   ]
  },
  {
   "cell_type": "markdown",
   "metadata": {},
   "source": [
    "#### Target variables chosen: Valve condition"
   ]
  },
  {
   "cell_type": "markdown",
   "metadata": {},
   "source": [
    "Valve condition %:\n",
    "\n",
    "100: optimal switching behavior\n",
    "\n",
    "90: small lag\n",
    "\n",
    "80: severe lag \n",
    "\n",
    "73: close to total failure\n",
    "\n",
    "From a simple visualization of the 5 different target variables from above, they all look similar and they essentially describes the same thing: degradation processes over time, according to the data description. \n",
    "\n",
    "I choose the valve condition variable on the grounds that it relatively evenly distributed, among the other target variables. But there are no reasons quantitatively or qualitatively to suggest the specialty of this target variable. In other words, the prediction algorithm described in this report should apply well on the other target variables as well. \n",
    "\n",
    "For the valve condition variable, it contains 2205 cycles, at a mean of 90.69. The median of the sample is 100, meaning more than half of the cycles, the valve is in optimal condition. "
   ]
  },
  {
   "cell_type": "code",
   "execution_count": 8,
   "metadata": {},
   "outputs": [
    {
     "data": {
      "text/plain": [
       "count    2205.000000\n",
       "mean       90.693878\n",
       "std        10.681802\n",
       "min        73.000000\n",
       "25%        80.000000\n",
       "50%       100.000000\n",
       "75%       100.000000\n",
       "max       100.000000\n",
       "Name: valve_condition, dtype: float64"
      ]
     },
     "execution_count": 8,
     "metadata": {},
     "output_type": "execute_result"
    }
   ],
   "source": [
    "condition['valve_condition'].describe()"
   ]
  },
  {
   "cell_type": "code",
   "execution_count": 9,
   "metadata": {},
   "outputs": [
    {
     "data": {
      "text/plain": [
       "<matplotlib.axes._subplots.AxesSubplot at 0x1a60d7e9438>"
      ]
     },
     "execution_count": 9,
     "metadata": {},
     "output_type": "execute_result"
    },
    {
     "data": {
      "image/png": "[encoded data removed]",
      "text/plain": [
       "<Figure size 504x504 with 1 Axes>"
      ]
     },
     "metadata": {},
     "output_type": "display_data"
    }
   ],
   "source": [
    "figure,ax = plt.subplots(figsize=(7, 7), sharex = False)\n",
    "sns.distplot(condition['valve_condition'], hist=True,color = 'green',ax=ax)\n"
   ]
  },
  {
   "cell_type": "markdown",
   "metadata": {},
   "source": [
    "#### Attribute information of sensors \n",
    "\n",
    "The data desciption of the is a bit tricky. The original \"Deteching and compensating sensor faults in a hydraulic conditon monitoring system\" paper by Helwig et. al (2015) did not include a section of data of the exact features used. In this report, the original time series data is also extracted using a feature extraction and feature selection to come up with a total number of 2286 features. Below is a description of the original sensor information.\n"
   ]
  },
  {
   "cell_type": "markdown",
   "metadata": {},
   "source": [
    "The data set was experimentally obtained with a hydraulic test rig. This test rig consists of a first working and a secondary cooling-filtration circuit connected via the oil tank. The system cyclically repeats constant load cycles (duration 60 seconds) and measures process values such as pressures, volume flows and temperatures while the condition of four hydraulic components (cooler, valve, pump, and accumulator) is quantitatively varied. \n",
    "\n",
    "The data set contains raw process sensor data (i.e., without feature extraction) with the rows representing the cycles and the columns the data points within a cycle. \n",
    "\n",
    "The sensors involved are: process sensors measuring pressures (PS 1-6), Volume flows (FS1-2), electrical pump input power (EPS1), temperature (TS1-4) and Vibration (VS1). Three virtual sensors (Cooling efficiency, Cooling power, and Efficiency factor) are derived from the physical sensors."
   ]
  },
  {
   "cell_type": "markdown",
   "metadata": {},
   "source": [
    "### Joining features, feature extraction and feature feature selection"
   ]
  },
  {
   "cell_type": "code",
   "execution_count": 10,
   "metadata": {},
   "outputs": [
    {
     "data": {
      "text/html": [
       "<div>\n",
       "<style scoped>\n",
       "    .dataframe tbody tr th:only-of-type {\n",
       "        vertical-align: middle;\n",
       "    }\n",
       "\n",
       "    .dataframe tbody tr th {\n",
       "        vertical-align: top;\n",
       "    }\n",
       "\n",
       "    .dataframe thead th {\n",
       "        text-align: right;\n",
       "    }\n",
       "</style>\n",
       "<table border=\"1\" class=\"dataframe\">\n",
       "  <thead>\n",
       "    <tr style=\"text-align: right;\">\n",
       "      <th></th>\n",
       "      <th>seconds</th>\n",
       "      <th>cycle</th>\n",
       "      <th>CP</th>\n",
       "      <th>CE</th>\n",
       "      <th>EPS1</th>\n",
       "      <th>FS1</th>\n",
       "      <th>FS2</th>\n",
       "      <th>PS1</th>\n",
       "      <th>PS2</th>\n",
       "      <th>PS3</th>\n",
       "      <th>PS4</th>\n",
       "      <th>PS5</th>\n",
       "      <th>PS6</th>\n",
       "      <th>SE</th>\n",
       "      <th>TS1</th>\n",
       "      <th>TS2</th>\n",
       "      <th>TS3</th>\n",
       "      <th>TS4</th>\n",
       "      <th>VS1</th>\n",
       "    </tr>\n",
       "  </thead>\n",
       "  <tbody>\n",
       "    <tr>\n",
       "      <th>0</th>\n",
       "      <td>0</td>\n",
       "      <td>0</td>\n",
       "      <td>2.184</td>\n",
       "      <td>47.202</td>\n",
       "      <td>2411.6</td>\n",
       "      <td>8.990</td>\n",
       "      <td>10.179</td>\n",
       "      <td>151.47</td>\n",
       "      <td>125.50</td>\n",
       "      <td>2.305</td>\n",
       "      <td>0.0</td>\n",
       "      <td>9.936</td>\n",
       "      <td>9.818</td>\n",
       "      <td>68.039</td>\n",
       "      <td>35.570</td>\n",
       "      <td>40.961</td>\n",
       "      <td>38.320</td>\n",
       "      <td>30.363</td>\n",
       "      <td>0.604</td>\n",
       "    </tr>\n",
       "    <tr>\n",
       "      <th>1</th>\n",
       "      <td>1</td>\n",
       "      <td>0</td>\n",
       "      <td>2.184</td>\n",
       "      <td>47.273</td>\n",
       "      <td>2411.6</td>\n",
       "      <td>0.770</td>\n",
       "      <td>10.174</td>\n",
       "      <td>151.45</td>\n",
       "      <td>125.39</td>\n",
       "      <td>2.305</td>\n",
       "      <td>0.0</td>\n",
       "      <td>9.947</td>\n",
       "      <td>9.823</td>\n",
       "      <td>0.000</td>\n",
       "      <td>35.492</td>\n",
       "      <td>40.949</td>\n",
       "      <td>38.332</td>\n",
       "      <td>30.375</td>\n",
       "      <td>0.605</td>\n",
       "    </tr>\n",
       "    <tr>\n",
       "      <th>2</th>\n",
       "      <td>2</td>\n",
       "      <td>0</td>\n",
       "      <td>2.184</td>\n",
       "      <td>47.250</td>\n",
       "      <td>2411.6</td>\n",
       "      <td>0.641</td>\n",
       "      <td>10.151</td>\n",
       "      <td>151.52</td>\n",
       "      <td>125.40</td>\n",
       "      <td>2.336</td>\n",
       "      <td>0.0</td>\n",
       "      <td>9.964</td>\n",
       "      <td>9.844</td>\n",
       "      <td>0.000</td>\n",
       "      <td>35.469</td>\n",
       "      <td>40.965</td>\n",
       "      <td>38.320</td>\n",
       "      <td>30.367</td>\n",
       "      <td>0.611</td>\n",
       "    </tr>\n",
       "    <tr>\n",
       "      <th>3</th>\n",
       "      <td>3</td>\n",
       "      <td>0</td>\n",
       "      <td>2.185</td>\n",
       "      <td>47.332</td>\n",
       "      <td>2411.6</td>\n",
       "      <td>0.006</td>\n",
       "      <td>10.149</td>\n",
       "      <td>151.27</td>\n",
       "      <td>125.03</td>\n",
       "      <td>2.578</td>\n",
       "      <td>0.0</td>\n",
       "      <td>9.989</td>\n",
       "      <td>9.861</td>\n",
       "      <td>0.000</td>\n",
       "      <td>35.422</td>\n",
       "      <td>40.922</td>\n",
       "      <td>38.324</td>\n",
       "      <td>30.367</td>\n",
       "      <td>0.603</td>\n",
       "    </tr>\n",
       "    <tr>\n",
       "      <th>4</th>\n",
       "      <td>4</td>\n",
       "      <td>0</td>\n",
       "      <td>2.178</td>\n",
       "      <td>47.213</td>\n",
       "      <td>2411.6</td>\n",
       "      <td>0.000</td>\n",
       "      <td>10.172</td>\n",
       "      <td>150.80</td>\n",
       "      <td>124.05</td>\n",
       "      <td>2.977</td>\n",
       "      <td>0.0</td>\n",
       "      <td>9.996</td>\n",
       "      <td>9.877</td>\n",
       "      <td>0.000</td>\n",
       "      <td>35.414</td>\n",
       "      <td>40.879</td>\n",
       "      <td>38.332</td>\n",
       "      <td>30.379</td>\n",
       "      <td>0.608</td>\n",
       "    </tr>\n",
       "  </tbody>\n",
       "</table>\n",
       "</div>"
      ],
      "text/plain": [
       "   seconds  cycle     CP      CE    EPS1    FS1     FS2     PS1     PS2  \\\n",
       "0        0      0  2.184  47.202  2411.6  8.990  10.179  151.47  125.50   \n",
       "1        1      0  2.184  47.273  2411.6  0.770  10.174  151.45  125.39   \n",
       "2        2      0  2.184  47.250  2411.6  0.641  10.151  151.52  125.40   \n",
       "3        3      0  2.185  47.332  2411.6  0.006  10.149  151.27  125.03   \n",
       "4        4      0  2.178  47.213  2411.6  0.000  10.172  150.80  124.05   \n",
       "\n",
       "     PS3  PS4    PS5    PS6      SE     TS1     TS2     TS3     TS4    VS1  \n",
       "0  2.305  0.0  9.936  9.818  68.039  35.570  40.961  38.320  30.363  0.604  \n",
       "1  2.305  0.0  9.947  9.823   0.000  35.492  40.949  38.332  30.375  0.605  \n",
       "2  2.336  0.0  9.964  9.844   0.000  35.469  40.965  38.320  30.367  0.611  \n",
       "3  2.578  0.0  9.989  9.861   0.000  35.422  40.922  38.324  30.367  0.603  \n",
       "4  2.977  0.0  9.996  9.877   0.000  35.414  40.879  38.332  30.379  0.608  "
      ]
     },
     "execution_count": 10,
     "metadata": {},
     "output_type": "execute_result"
    }
   ],
   "source": [
    "# make the dataframes into a list \n",
    "dfs= [features['CP'],features['CE'],features['EPS1'],features['FS1'],features['FS2'],features['PS1'],features['PS2'],features['PS3'],\n",
    "     features['PS4'],features['PS5'],features['PS6'],features['SE'],features['TS1'],features['TS2'],features['TS3'],features['TS4'],\n",
    "     features['VS1']]  \n",
    "\n",
    "# joining different features based on seconds and cycle\n",
    "features_join = reduce(lambda left,right: pd.merge(left,right,on=['seconds','cycle']), dfs)\n",
    "features_join.head()\n"
   ]
  },
  {
   "cell_type": "markdown",
   "metadata": {},
   "source": [
    "The critical feature about those cyclical time series is that the fault mechanism produces a specific \"fingerprint\" in the cyclical sensor data. Taking note of these characteristics is essential. However, we cannot directly apply machine learning methods directly, treating each measurement point as a variable. The high dimensional problem associated with estimating a vast number of parameters would computationally troublesome and likely lead to overfitting. Dimension reduction technique is thereby required. \n",
    "Specifically, we need to extract characteristic features from the time series (feature extraction) and select the most relevant features (features selection). Feature extraction is an unsupervised process that only depends on the basic shape of the cycle that is to be represented by the elements. Feature selection is, on the other hand, a supervised process that selects the most relevant features concerning a given classification target to reduce further the number of variables that enter into the models.\n",
    "\n",
    "The idea and methodology of the approach comes from the following papers:\n",
    "1. Christ, M., Kempa-Liehr, A.W. and Feindt, M. (2016). Distributed and parallel time series feature extraction for industrial big data applications. ArXiv e-prints: 1610.07717\n",
    "2. Christ, M., Braun, N., Neuffer, J. and Kempa-Liehr A.W. (2018). Time Series FeatuRe Extraction on basis of Scalable Hypothesis tests (tsfresh -- A Python package). Neurocomputing 307 (2018) 72-77, doi:10.1016/j.neucom.2018.03.067.\n",
    "3. Schneider, Tizian, Nikolai Helwig, and Andreas Schütze. \"Automatic feature extraction and selection for classification of cyclical time series data.\" tm-Technisches Messen 84.3 (2017): 198-206.\n"
   ]
  },
  {
   "cell_type": "markdown",
   "metadata": {},
   "source": [
    "The filtering process consists of three phases which are sketched in the following figure:\n",
    "1. Feature extraction: calculate relevant features from each cycle.\n",
    "2. Feature evaluation: evaluate the importance of the different extracted features (using feature significance testing with regard to the target).\n",
    "3. Feature selection: evaluated  the features on basis of the Benjamini-Yekutieli procedure in order to decide which features to keep\n",
    "\n"
   ]
  },
  {
   "cell_type": "markdown",
   "metadata": {},
   "source": [
    "\n",
    "![Illustration of feature_extraction_process ](feature_extraction_process.png \"Illustration of feature extraction process\")\n"
   ]
  },
  {
   "cell_type": "markdown",
   "metadata": {},
   "source": [
    "In this particular case, the characteristics are the shape of each cycle for each sensor. The figure below demonstrates some of these signals that each cycle contains. More precisely, the shape is characterised by measures including: sum over the squared values, the sum over the absolute value of consecutive changes,aggregation autocorrelation,approximate entropy, linear trend, count of values above the mean, etc.\n",
    "A full list of the features are listed in this link (https://tsfresh.readthedocs.io/en/latest/text/list_of_features.html).\n",
    "\n"
   ]
  },
  {
   "cell_type": "markdown",
   "metadata": {},
   "source": [
    "![Illustration of characteristics ](tsfresh.png \"Illustration of characteristics\")\n"
   ]
  },
  {
   "cell_type": "markdown",
   "metadata": {},
   "source": [
    "Below, I use the automactic feautre extraction and feautre selection methods using the tsfresh package."
   ]
  },
  {
   "cell_type": "code",
   "execution_count": 11,
   "metadata": {},
   "outputs": [
    {
     "name": "stderr",
     "output_type": "stream",
     "text": [
      "Feature Extraction: 100%|██████████████████████████████████████████████████████████████| 20/20 [20:41<00:00, 62.09s/it]\n",
      "WARNING:tsfresh.utilities.dataframe_functions:The columns ['CE__fft_coefficient__coeff_31__attr_\"abs\"'\n",
      " 'CE__fft_coefficient__coeff_31__attr_\"angle\"'\n",
      " 'CE__fft_coefficient__coeff_31__attr_\"imag\"' ...\n",
      " 'VS1__fft_coefficient__coeff_99__attr_\"angle\"'\n",
      " 'VS1__fft_coefficient__coeff_99__attr_\"imag\"'\n",
      " 'VS1__fft_coefficient__coeff_99__attr_\"real\"'] did not have any finite values. Filling with zeros.\n",
      "WARNING:tsfresh.feature_selection.relevance:Infered classification as machine learning task\n"
     ]
    }
   ],
   "source": [
    "# Automatic feautre extraction using the tsfresh package\n",
    "extracted_features = extract_features(features_join, column_id=\"cycle\", column_sort=\"seconds\")\n",
    "# Impute any possible missing values \n",
    "impute(extracted_features)\n",
    "\n",
    "# select the more relevant features with regard to the valve condition.\n",
    "features_filtered = select_features(extracted_features, condition['valve_condition'])"
   ]
  },
  {
   "cell_type": "code",
   "execution_count": 12,
   "metadata": {},
   "outputs": [
    {
     "data": {
      "text/html": [
       "<div>\n",
       "<style scoped>\n",
       "    .dataframe tbody tr th:only-of-type {\n",
       "        vertical-align: middle;\n",
       "    }\n",
       "\n",
       "    .dataframe tbody tr th {\n",
       "        vertical-align: top;\n",
       "    }\n",
       "\n",
       "    .dataframe thead th {\n",
       "        text-align: right;\n",
       "    }\n",
       "</style>\n",
       "<table border=\"1\" class=\"dataframe\">\n",
       "  <thead>\n",
       "    <tr style=\"text-align: right;\">\n",
       "      <th>variable</th>\n",
       "      <th>SE__cwt_coefficients__widths_(2, 5, 10, 20)__coeff_4__w_2</th>\n",
       "      <th>SE__cwt_coefficients__widths_(2, 5, 10, 20)__coeff_3__w_2</th>\n",
       "      <th>SE__cwt_coefficients__widths_(2, 5, 10, 20)__coeff_3__w_5</th>\n",
       "      <th>SE__cwt_coefficients__widths_(2, 5, 10, 20)__coeff_8__w_20</th>\n",
       "      <th>SE__agg_linear_trend__f_agg_\"min\"__chunk_len_10__attr_\"intercept\"</th>\n",
       "      <th>SE__cwt_coefficients__widths_(2, 5, 10, 20)__coeff_9__w_20</th>\n",
       "      <th>SE__cwt_coefficients__widths_(2, 5, 10, 20)__coeff_4__w_5</th>\n",
       "      <th>SE__cwt_coefficients__widths_(2, 5, 10, 20)__coeff_2__w_5</th>\n",
       "      <th>SE__cwt_coefficients__widths_(2, 5, 10, 20)__coeff_7__w_2</th>\n",
       "      <th>SE__cwt_coefficients__widths_(2, 5, 10, 20)__coeff_5__w_2</th>\n",
       "      <th>...</th>\n",
       "      <th>TS3__kurtosis</th>\n",
       "      <th>VS1__fft_coefficient__coeff_15__attr_\"real\"</th>\n",
       "      <th>SE__approximate_entropy__m_2__r_0.1</th>\n",
       "      <th>TS2__change_quantiles__f_agg_\"mean\"__isabs_True__qh_0.8__ql_0.2</th>\n",
       "      <th>SE__time_reversal_asymmetry_statistic__lag_2</th>\n",
       "      <th>SE__time_reversal_asymmetry_statistic__lag_1</th>\n",
       "      <th>TS3__fft_coefficient__coeff_18__attr_\"abs\"</th>\n",
       "      <th>TS2__change_quantiles__f_agg_\"var\"__isabs_True__qh_1.0__ql_0.2</th>\n",
       "      <th>TS2__change_quantiles__f_agg_\"var\"__isabs_False__qh_1.0__ql_0.2</th>\n",
       "      <th>TS3__fft_coefficient__coeff_4__attr_\"real\"</th>\n",
       "    </tr>\n",
       "    <tr>\n",
       "      <th>id</th>\n",
       "      <th></th>\n",
       "      <th></th>\n",
       "      <th></th>\n",
       "      <th></th>\n",
       "      <th></th>\n",
       "      <th></th>\n",
       "      <th></th>\n",
       "      <th></th>\n",
       "      <th></th>\n",
       "      <th></th>\n",
       "      <th></th>\n",
       "      <th></th>\n",
       "      <th></th>\n",
       "      <th></th>\n",
       "      <th></th>\n",
       "      <th></th>\n",
       "      <th></th>\n",
       "      <th></th>\n",
       "      <th></th>\n",
       "      <th></th>\n",
       "      <th></th>\n",
       "    </tr>\n",
       "  </thead>\n",
       "  <tbody>\n",
       "    <tr>\n",
       "      <th>0</th>\n",
       "      <td>-27.596950</td>\n",
       "      <td>-13.394721</td>\n",
       "      <td>-59.610291</td>\n",
       "      <td>123.166684</td>\n",
       "      <td>22.657000</td>\n",
       "      <td>135.049766</td>\n",
       "      <td>-69.146999</td>\n",
       "      <td>-46.560969</td>\n",
       "      <td>-54.220684</td>\n",
       "      <td>-36.146369</td>\n",
       "      <td>...</td>\n",
       "      <td>-0.664441</td>\n",
       "      <td>0.013</td>\n",
       "      <td>0.382694</td>\n",
       "      <td>0.020281</td>\n",
       "      <td>11165.058375</td>\n",
       "      <td>5393.316246</td>\n",
       "      <td>0.232453</td>\n",
       "      <td>0.000738</td>\n",
       "      <td>0.001348</td>\n",
       "      <td>-0.252027</td>\n",
       "    </tr>\n",
       "    <tr>\n",
       "      <th>1</th>\n",
       "      <td>-27.240551</td>\n",
       "      <td>-13.303555</td>\n",
       "      <td>-58.749215</td>\n",
       "      <td>122.032900</td>\n",
       "      <td>22.578476</td>\n",
       "      <td>133.938035</td>\n",
       "      <td>-68.757818</td>\n",
       "      <td>-45.434743</td>\n",
       "      <td>-52.707259</td>\n",
       "      <td>-35.191274</td>\n",
       "      <td>...</td>\n",
       "      <td>-0.936856</td>\n",
       "      <td>0.082</td>\n",
       "      <td>0.385361</td>\n",
       "      <td>0.030206</td>\n",
       "      <td>11940.571877</td>\n",
       "      <td>5772.836422</td>\n",
       "      <td>0.459333</td>\n",
       "      <td>0.000493</td>\n",
       "      <td>0.000986</td>\n",
       "      <td>-0.649945</td>\n",
       "    </tr>\n",
       "    <tr>\n",
       "      <th>2</th>\n",
       "      <td>-27.528574</td>\n",
       "      <td>-13.415471</td>\n",
       "      <td>-59.241101</td>\n",
       "      <td>123.056925</td>\n",
       "      <td>23.049190</td>\n",
       "      <td>135.024418</td>\n",
       "      <td>-69.120107</td>\n",
       "      <td>-45.970105</td>\n",
       "      <td>-53.493491</td>\n",
       "      <td>-35.732761</td>\n",
       "      <td>...</td>\n",
       "      <td>-0.880197</td>\n",
       "      <td>0.027</td>\n",
       "      <td>0.381953</td>\n",
       "      <td>0.029861</td>\n",
       "      <td>11768.303961</td>\n",
       "      <td>5695.226110</td>\n",
       "      <td>0.631316</td>\n",
       "      <td>0.000505</td>\n",
       "      <td>0.000906</td>\n",
       "      <td>-0.815835</td>\n",
       "    </tr>\n",
       "    <tr>\n",
       "      <th>3</th>\n",
       "      <td>-27.745590</td>\n",
       "      <td>-13.483140</td>\n",
       "      <td>-60.282422</td>\n",
       "      <td>124.266575</td>\n",
       "      <td>22.990095</td>\n",
       "      <td>136.312449</td>\n",
       "      <td>-70.051678</td>\n",
       "      <td>-47.000789</td>\n",
       "      <td>-54.430591</td>\n",
       "      <td>-36.246321</td>\n",
       "      <td>...</td>\n",
       "      <td>-0.885105</td>\n",
       "      <td>0.027</td>\n",
       "      <td>0.389467</td>\n",
       "      <td>0.027125</td>\n",
       "      <td>11662.584749</td>\n",
       "      <td>5617.691338</td>\n",
       "      <td>0.772126</td>\n",
       "      <td>0.000507</td>\n",
       "      <td>0.000704</td>\n",
       "      <td>-0.847633</td>\n",
       "    </tr>\n",
       "    <tr>\n",
       "      <th>4</th>\n",
       "      <td>-26.654870</td>\n",
       "      <td>-13.170702</td>\n",
       "      <td>-57.431716</td>\n",
       "      <td>120.706247</td>\n",
       "      <td>22.824286</td>\n",
       "      <td>132.684908</td>\n",
       "      <td>-68.333692</td>\n",
       "      <td>-43.582395</td>\n",
       "      <td>-50.148067</td>\n",
       "      <td>-33.524348</td>\n",
       "      <td>...</td>\n",
       "      <td>-1.152877</td>\n",
       "      <td>0.040</td>\n",
       "      <td>0.379202</td>\n",
       "      <td>0.029588</td>\n",
       "      <td>13102.182578</td>\n",
       "      <td>6334.214916</td>\n",
       "      <td>0.531304</td>\n",
       "      <td>0.000556</td>\n",
       "      <td>0.000995</td>\n",
       "      <td>-0.803187</td>\n",
       "    </tr>\n",
       "  </tbody>\n",
       "</table>\n",
       "<p>5 rows × 2286 columns</p>\n",
       "</div>"
      ],
      "text/plain": [
       "variable  SE__cwt_coefficients__widths_(2, 5, 10, 20)__coeff_4__w_2  \\\n",
       "id                                                                    \n",
       "0                                                -27.596950           \n",
       "1                                                -27.240551           \n",
       "2                                                -27.528574           \n",
       "3                                                -27.745590           \n",
       "4                                                -26.654870           \n",
       "\n",
       "variable  SE__cwt_coefficients__widths_(2, 5, 10, 20)__coeff_3__w_2  \\\n",
       "id                                                                    \n",
       "0                                                -13.394721           \n",
       "1                                                -13.303555           \n",
       "2                                                -13.415471           \n",
       "3                                                -13.483140           \n",
       "4                                                -13.170702           \n",
       "\n",
       "variable  SE__cwt_coefficients__widths_(2, 5, 10, 20)__coeff_3__w_5  \\\n",
       "id                                                                    \n",
       "0                                                -59.610291           \n",
       "1                                                -58.749215           \n",
       "2                                                -59.241101           \n",
       "3                                                -60.282422           \n",
       "4                                                -57.431716           \n",
       "\n",
       "variable  SE__cwt_coefficients__widths_(2, 5, 10, 20)__coeff_8__w_20  \\\n",
       "id                                                                     \n",
       "0                                                123.166684            \n",
       "1                                                122.032900            \n",
       "2                                                123.056925            \n",
       "3                                                124.266575            \n",
       "4                                                120.706247            \n",
       "\n",
       "variable  SE__agg_linear_trend__f_agg_\"min\"__chunk_len_10__attr_\"intercept\"  \\\n",
       "id                                                                            \n",
       "0                                                 22.657000                   \n",
       "1                                                 22.578476                   \n",
       "2                                                 23.049190                   \n",
       "3                                                 22.990095                   \n",
       "4                                                 22.824286                   \n",
       "\n",
       "variable  SE__cwt_coefficients__widths_(2, 5, 10, 20)__coeff_9__w_20  \\\n",
       "id                                                                     \n",
       "0                                                135.049766            \n",
       "1                                                133.938035            \n",
       "2                                                135.024418            \n",
       "3                                                136.312449            \n",
       "4                                                132.684908            \n",
       "\n",
       "variable  SE__cwt_coefficients__widths_(2, 5, 10, 20)__coeff_4__w_5  \\\n",
       "id                                                                    \n",
       "0                                                -69.146999           \n",
       "1                                                -68.757818           \n",
       "2                                                -69.120107           \n",
       "3                                                -70.051678           \n",
       "4                                                -68.333692           \n",
       "\n",
       "variable  SE__cwt_coefficients__widths_(2, 5, 10, 20)__coeff_2__w_5  \\\n",
       "id                                                                    \n",
       "0                                                -46.560969           \n",
       "1                                                -45.434743           \n",
       "2                                                -45.970105           \n",
       "3                                                -47.000789           \n",
       "4                                                -43.582395           \n",
       "\n",
       "variable  SE__cwt_coefficients__widths_(2, 5, 10, 20)__coeff_7__w_2  \\\n",
       "id                                                                    \n",
       "0                                                -54.220684           \n",
       "1                                                -52.707259           \n",
       "2                                                -53.493491           \n",
       "3                                                -54.430591           \n",
       "4                                                -50.148067           \n",
       "\n",
       "variable  SE__cwt_coefficients__widths_(2, 5, 10, 20)__coeff_5__w_2  \\\n",
       "id                                                                    \n",
       "0                                                -36.146369           \n",
       "1                                                -35.191274           \n",
       "2                                                -35.732761           \n",
       "3                                                -36.246321           \n",
       "4                                                -33.524348           \n",
       "\n",
       "variable                     ...                      TS3__kurtosis  \\\n",
       "id                           ...                                      \n",
       "0                            ...                          -0.664441   \n",
       "1                            ...                          -0.936856   \n",
       "2                            ...                          -0.880197   \n",
       "3                            ...                          -0.885105   \n",
       "4                            ...                          -1.152877   \n",
       "\n",
       "variable  VS1__fft_coefficient__coeff_15__attr_\"real\"  \\\n",
       "id                                                      \n",
       "0                                               0.013   \n",
       "1                                               0.082   \n",
       "2                                               0.027   \n",
       "3                                               0.027   \n",
       "4                                               0.040   \n",
       "\n",
       "variable  SE__approximate_entropy__m_2__r_0.1  \\\n",
       "id                                              \n",
       "0                                    0.382694   \n",
       "1                                    0.385361   \n",
       "2                                    0.381953   \n",
       "3                                    0.389467   \n",
       "4                                    0.379202   \n",
       "\n",
       "variable  TS2__change_quantiles__f_agg_\"mean\"__isabs_True__qh_0.8__ql_0.2  \\\n",
       "id                                                                          \n",
       "0                                                  0.020281                 \n",
       "1                                                  0.030206                 \n",
       "2                                                  0.029861                 \n",
       "3                                                  0.027125                 \n",
       "4                                                  0.029588                 \n",
       "\n",
       "variable  SE__time_reversal_asymmetry_statistic__lag_2  \\\n",
       "id                                                       \n",
       "0                                         11165.058375   \n",
       "1                                         11940.571877   \n",
       "2                                         11768.303961   \n",
       "3                                         11662.584749   \n",
       "4                                         13102.182578   \n",
       "\n",
       "variable  SE__time_reversal_asymmetry_statistic__lag_1  \\\n",
       "id                                                       \n",
       "0                                          5393.316246   \n",
       "1                                          5772.836422   \n",
       "2                                          5695.226110   \n",
       "3                                          5617.691338   \n",
       "4                                          6334.214916   \n",
       "\n",
       "variable  TS3__fft_coefficient__coeff_18__attr_\"abs\"  \\\n",
       "id                                                     \n",
       "0                                           0.232453   \n",
       "1                                           0.459333   \n",
       "2                                           0.631316   \n",
       "3                                           0.772126   \n",
       "4                                           0.531304   \n",
       "\n",
       "variable  TS2__change_quantiles__f_agg_\"var\"__isabs_True__qh_1.0__ql_0.2  \\\n",
       "id                                                                         \n",
       "0                                                  0.000738                \n",
       "1                                                  0.000493                \n",
       "2                                                  0.000505                \n",
       "3                                                  0.000507                \n",
       "4                                                  0.000556                \n",
       "\n",
       "variable  TS2__change_quantiles__f_agg_\"var\"__isabs_False__qh_1.0__ql_0.2  \\\n",
       "id                                                                          \n",
       "0                                                  0.001348                 \n",
       "1                                                  0.000986                 \n",
       "2                                                  0.000906                 \n",
       "3                                                  0.000704                 \n",
       "4                                                  0.000995                 \n",
       "\n",
       "variable  TS3__fft_coefficient__coeff_4__attr_\"real\"  \n",
       "id                                                    \n",
       "0                                          -0.252027  \n",
       "1                                          -0.649945  \n",
       "2                                          -0.815835  \n",
       "3                                          -0.847633  \n",
       "4                                          -0.803187  \n",
       "\n",
       "[5 rows x 2286 columns]"
      ]
     },
     "execution_count": 12,
     "metadata": {},
     "output_type": "execute_result"
    }
   ],
   "source": [
    "features_filtered.head()"
   ]
  },
  {
   "cell_type": "code",
   "execution_count": 17,
   "metadata": {},
   "outputs": [
    {
     "data": {
      "text/plain": [
       "(2205, 2286)"
      ]
     },
     "execution_count": 17,
     "metadata": {},
     "output_type": "execute_result"
    }
   ],
   "source": [
    "features_filtered.shape"
   ]
  },
  {
   "cell_type": "markdown",
   "metadata": {},
   "source": [
    "### Outlier and missing value detection "
   ]
  },
  {
   "cell_type": "markdown",
   "metadata": {},
   "source": [
    "In this particular case, outliers of the features are in itself likely to be a singal rather than an observation to be excluded. \n",
    "\n",
    "In terms of missing values, there are no missing values in the feature data or the target condition data. (Data Descpition mentions \"Missing Attribute Values: None.\"). This information is collaborated by the checks below, showing that there is no missing in both the features or the target data."
   ]
  },
  {
   "cell_type": "code",
   "execution_count": 14,
   "metadata": {},
   "outputs": [
    {
     "data": {
      "text/plain": [
       "False"
      ]
     },
     "execution_count": 14,
     "metadata": {},
     "output_type": "execute_result"
    }
   ],
   "source": [
    "# test if any missing values in the features\n",
    "features_filtered.isnull().any().any()"
   ]
  },
  {
   "cell_type": "code",
   "execution_count": 15,
   "metadata": {},
   "outputs": [
    {
     "data": {
      "text/plain": [
       "False"
      ]
     },
     "execution_count": 15,
     "metadata": {},
     "output_type": "execute_result"
    }
   ],
   "source": [
    "# test if any missing values in the target variables.\n",
    "condition['valve_condition'].isnull().any().any()"
   ]
  },
  {
   "cell_type": "markdown",
   "metadata": {},
   "source": [
    "### Model Fitting"
   ]
  },
  {
   "cell_type": "markdown",
   "metadata": {},
   "source": [
    "#### Train and Test split"
   ]
  },
  {
   "cell_type": "markdown",
   "metadata": {},
   "source": [
    "A random split of the sample with 30% being the test sample and 70% being the training sample. The number of observation is 2205, which is not huge compared to the number of features. I decided not to have a validation set and choose a reltively bigger training set in order to make full use of the information in the data. "
   ]
  },
  {
   "cell_type": "code",
   "execution_count": 16,
   "metadata": {},
   "outputs": [],
   "source": [
    "# use a random split of training and testing\n",
    "X_train, X_test, y_train, y_test = train_test_split(features_filtered,  condition['valve_condition'], test_size=.3,random_state=822)\n"
   ]
  },
  {
   "cell_type": "markdown",
   "metadata": {},
   "source": [
    "#### Models chosen: LDA, Random Forest, Gradient Boosting"
   ]
  },
  {
   "cell_type": "markdown",
   "metadata": {},
   "source": [
    "The modeling strategy about this problem is to deal with the high dimensionality problem. Notably, the number of features is slightly more than the number of observations (2286 features and 2205 cycles). \n",
    "\n",
    "\n",
    "In high-dimensional spaces including those problems where the number of features is similar to or slightly exceeds the number of instances, data can more easily be separated linearly and the simplicity of classifiers such a Linear Discriminant Analysis or a Linear SVM might lead to better generalization than is achieved by other classifiers, such as a Quadratic Discriminant Analysis. However, despite hours of trying, training and tuning the propoer kernel and hyperparameters for a linear SVM seems difficult. Following  Helwig et. al (2015), I choose the LDA as a baseline classifier.\n",
    "\n",
    "Ensembling leaning approaches including bagging and boosting have been used regularly applied to achieve a higher level of accuracy in a high dimensionality problem and avoid overfitting. These approaches combine weak learners, and by majority voting, generate weights for the input training data to make the prediction more accurate. \n",
    "\n",
    "I choose a standard bagging algorithm Random Forest and a boosting algorithm Gradient Boosting for this exercise. \n"
   ]
  },
  {
   "cell_type": "markdown",
   "metadata": {},
   "source": [
    "The hyperparameters and kernels are searched via a grid search method with cross-validation, for all of the three models."
   ]
  },
  {
   "cell_type": "code",
   "execution_count": 32,
   "metadata": {},
   "outputs": [
    {
     "name": "stdout",
     "output_type": "stream",
     "text": [
      "{'n_components': 1}\n"
     ]
    }
   ],
   "source": [
    "from sklearn.discriminant_analysis import LinearDiscriminantAnalysis\n",
    "\n",
    "lda = LinearDiscriminantAnalysis()\n",
    "parameters = {'n_components':np.arange( 1,10, 1 ).tolist()}\n",
    "\n",
    "clf_lda = GridSearchCV(lda, parameters,cv=6, n_jobs= 4, iid = True,  refit= True,pre_dispatch= '2*n_jobs')\n",
    "clf_lda.fit(X_train, y_train)\n",
    "print(clf_lda.best_params_)\n"
   ]
  },
  {
   "cell_type": "code",
   "execution_count": 30,
   "metadata": {},
   "outputs": [
    {
     "name": "stdout",
     "output_type": "stream",
     "text": [
      "{'max_depth': 9, 'min_samples_leaf': 2}\n"
     ]
    }
   ],
   "source": [
    "from sklearn.ensemble import RandomForestClassifier\n",
    "\n",
    "# Lets build our model and train it all at once\n",
    "rfc = RandomForestClassifier(random_state =822,n_jobs =4,warm_start = True)\n",
    "\n",
    "parameters = {'max_depth':np.arange( 2,12, 1 ).tolist(), 'min_samples_leaf':np.arange( 1,5, 1 ).tolist()}\n",
    "clf_rfc = GridSearchCV(rfc, parameters,cv=6, n_jobs= 4, iid = True,  refit= True,pre_dispatch= '2*n_jobs')\n",
    "clf_rfc.fit(X_train, y_train)\n",
    "print(clf_rfc.best_params_)\n",
    "# Fit estimator to scaled training data"
   ]
  },
  {
   "cell_type": "code",
   "execution_count": 31,
   "metadata": {},
   "outputs": [
    {
     "name": "stdout",
     "output_type": "stream",
     "text": [
      "{'max_depth': 5}\n"
     ]
    }
   ],
   "source": [
    "from sklearn.ensemble import GradientBoostingClassifier\n",
    "\n",
    "# First we construct our gradient boosting model, \n",
    "# We specify 500 trees to start, each with a maximum \n",
    "# depth of three. We also specify the random_state \n",
    "# hyperparameter to ensure reproduceability.\n",
    "gbtc = GradientBoostingClassifier(n_estimators=500, random_state=822)\n",
    "parameters = {'max_depth':np.arange( 2,6,1 ).tolist()}\n",
    "clf_gbtc = GridSearchCV(gbtc, parameters,cv=6, n_jobs= 4, iid = True,  refit= True,pre_dispatch= '2*n_jobs')\n",
    "clf_gbtc.fit(X_train, y_train)\n",
    "print(clf_gbtc.best_params_)"
   ]
  },
  {
   "cell_type": "markdown",
   "metadata": {},
   "source": [
    "### Results comparison and visualization of prediction"
   ]
  },
  {
   "cell_type": "markdown",
   "metadata": {},
   "source": [
    "Define a function for plotting the confusion matrix to help with visualization"
   ]
  },
  {
   "cell_type": "code",
   "execution_count": 35,
   "metadata": {},
   "outputs": [],
   "source": [
    "def confusion(test, predict, names, bins=4, title='Confusion Matrix'):\n",
    "\n",
    "    # Make a 2D histogram from the test and result arrays\n",
    "    pts, xe, ye = np.histogram2d(test, predict, bins)\n",
    "\n",
    "    # For simplicity we create a new DataFrame\n",
    "    pd_pts = pd.DataFrame(pts.astype(int), index=names, columns=names )\n",
    "    \n",
    "    # Display heatmap and add decorations\n",
    "    hm = sns.heatmap(pd_pts, annot=True, fmt=\"d\")    \n",
    "    hm.axes.set_title(title, fontsize=20)\n",
    "    hm.axes.set_xlabel('Actual', fontsize=18)\n",
    "    hm.axes.set_ylabel('Predicted', fontsize=18)\n",
    "\n",
    "    return None"
   ]
  },
  {
   "cell_type": "markdown",
   "metadata": {},
   "source": [
    "The result metrics are mainly using three measures: \n",
    "\n",
    "1. Accuracy. The percent of data that we accurately predict in each category. \n",
    "\n",
    "\n",
    "2. Preicision. The number of true positives divided by the number of true positives plus the number of false positives. \n",
    "\n",
    "\n",
    "3. Recall. The number of true positives divided by the number of true positives plus the number of false negatives.\n",
    "\n",
    "Comparing the results of the three algorithms, the baseline LDA has lower overall accuracy at 61.2%. The overall accuracy is between 84% to 87.6% for the later two methods. This performance is very close to the  Helwig et. al (2015), despite a short time frame for feature engineering and parameter tuning. The specific results are shown in terms of tables and confusion matrices below.\n",
    "\n",
    "We certainly care about the overall accuracy. However, we also care more about in the particular problem about preventing potential system failures at the end where the valve is close to a fault and severe lag. By looking at the reports of all the three methods and the confusion matrices, the accuracy is exceptionally high on the potential hazardous end for Random Forest and Gradient Boosting. The Gradient Boosting results, for example, the predicted results have 0.99 precision, 0.98 recall for the 73 categories; 0.96 precision, 0.99 recall for the 80 class. This should serve well the purpose for detecting a possible faulty signal in sensors.\n",
    "\n",
    "The underperformance mainly comes from trying to differentiating the 90 and 100 categories,i.e., trying to tell if it is fully functional or it has a small lag. While we would wish to improve on the prediction result on this end, it appears to be a relatively minor problem in the error detection context that this project is concerned about. \n",
    "\n",
    "\n",
    "\n",
    "\n",
    "\n"
   ]
  },
  {
   "cell_type": "code",
   "execution_count": 42,
   "metadata": {},
   "outputs": [
    {
     "name": "stdout",
     "output_type": "stream",
     "text": [
      "LDA classifier prediction accuracy =  61.2%\n",
      "             precision    recall  f1-score   support\n",
      "\n",
      "         73       0.92      0.96      0.94       118\n",
      "         80       0.49      0.68      0.57       111\n",
      "         90       0.31      0.41      0.35       117\n",
      "        100       0.73      0.53      0.62       316\n",
      "\n",
      "avg / total       0.65      0.61      0.62       662\n",
      "\n"
     ]
    }
   ],
   "source": [
    "# Compute and display accuracy score\n",
    "\n",
    "# Make the prediction using the fine-tuned model and compute accuracy\n",
    "lda_score = 100.0 * clf_lda.score(X_test, y_test)\n",
    "\n",
    "print(f\"LDA classifier prediction accuracy = {lda_score:5.1f}%\")\n",
    "print(classification_report(y_test, clf_lda.predict(X_test)))"
   ]
  },
  {
   "cell_type": "code",
   "execution_count": 43,
   "metadata": {},
   "outputs": [
    {
     "data": {
      "image/png": "[encoded data removed]",
      "text/plain": [
       "<Figure size 432x288 with 2 Axes>"
      ]
     },
     "metadata": {},
     "output_type": "display_data"
    }
   ],
   "source": [
    "#  confusion matrix plotting for LDA\n",
    "confusion(y_test, \n",
    "             clf_lda.predict(X_test), [\"73\",\"80\",\"90\",\"100\"], 4, \n",
    "             'LDA Classification')"
   ]
  },
  {
   "cell_type": "code",
   "execution_count": 38,
   "metadata": {},
   "outputs": [
    {
     "name": "stdout",
     "output_type": "stream",
     "text": [
      "Random Forest prediction accuracy =  84.4%\n",
      "             precision    recall  f1-score   support\n",
      "\n",
      "         73       0.99      0.98      0.99       118\n",
      "         80       0.95      0.97      0.96       111\n",
      "         90       0.62      0.44      0.52       117\n",
      "        100       0.82      0.90      0.85       316\n",
      "\n",
      "avg / total       0.83      0.84      0.84       662\n",
      "\n"
     ]
    }
   ],
   "source": [
    "# Compute and display accuracy score for random forest\n",
    "rfc_score = 100.0 * clf_rfc.score(X_test, y_test)\n",
    "print(f\"Random Forest prediction accuracy = {rfc_score:5.1f}%\")\n",
    "print(classification_report(y_test, clf_rfc.predict(X_test)))"
   ]
  },
  {
   "cell_type": "code",
   "execution_count": 39,
   "metadata": {},
   "outputs": [
    {
     "data": {
      "image/png": "[encoded data removed]",
      "text/plain": [
       "<Figure size 432x288 with 2 Axes>"
      ]
     },
     "metadata": {},
     "output_type": "display_data"
    }
   ],
   "source": [
    "#  confusion matrix plotting for random forest\n",
    "confusion(y_test, \n",
    "             clf_rfc.predict(X_test), [\"73\",\"80\",\"90\",\"100\"], 4, \n",
    "             'Random Forest Classification')"
   ]
  },
  {
   "cell_type": "code",
   "execution_count": 40,
   "metadata": {},
   "outputs": [
    {
     "name": "stdout",
     "output_type": "stream",
     "text": [
      "Gradient Boosting prediction accuracy =  87.6%\n",
      "             precision    recall  f1-score   support\n",
      "\n",
      "         73       0.99      0.98      0.99       118\n",
      "         80       0.96      0.99      0.97       111\n",
      "         90       0.72      0.55      0.62       117\n",
      "        100       0.85      0.92      0.88       316\n",
      "\n",
      "avg / total       0.87      0.88      0.87       662\n",
      "\n"
     ]
    }
   ],
   "source": [
    "# Compute and display accuracy score for gbtc\n",
    "gbtc_score = 100.0 * clf_gbtc.score(X_test, y_test)\n",
    "print(f\"Gradient Boosting prediction accuracy = {gbtc_score:5.1f}%\")\n",
    "print(classification_report(y_test, clf_gbtc.predict(X_test)))"
   ]
  },
  {
   "cell_type": "code",
   "execution_count": 41,
   "metadata": {},
   "outputs": [
    {
     "data": {
      "image/png": "[encoded data removed]",
      "text/plain": [
       "<Figure size 432x288 with 2 Axes>"
      ]
     },
     "metadata": {},
     "output_type": "display_data"
    }
   ],
   "source": [
    "#  confusion matrix plotting for Gradient Boosting Classification\n",
    "confusion(y_test, \n",
    "             clf_gbtc.predict(X_test), [\"73\",\"80\",\"90\",\"100\"], 4, \n",
    "             'Gradient Boosting Classification')"
   ]
  },
  {
   "cell_type": "markdown",
   "metadata": {},
   "source": [
    "### References\n",
    "\n",
    "\n",
    "1. Christ, M., Kempa-Liehr, A.W. and Feindt, M. (2016). Distributed and parallel time series feature extraction for industrial big data applications. ArXiv e-prints: 1610.07717\n",
    "\n",
    "2. Christ, M., Braun, N., Neuffer, J. and Kempa-Liehr A.W. (2018). Time Series FeatuRe Extraction on basis of Scalable Hypothesis tests (tsfresh -- A Python package). Neurocomputing 307 (2018) 72-77, doi:10.1016/j.neucom.2018.03.067.\n",
    "\n",
    "3. Helwig, N., E. Pignanelli, and A. Schütze. \"Detecting and compensating sensor faults in a hydraulic condition monitoring system.\" Proc. SENSOR. 2015.\n",
    "\n",
    "4. Schneider, Tizian, Nikolai Helwig, and Andreas Schütze. \"Automatic feature extraction and selection for classification of cyclical time series data.\" tm-Technisches Messen 84.3 (2017): 198-206."
   ]
  },
  {
   "cell_type": "code",
   "execution_count": null,
   "metadata": {},
   "outputs": [],
   "source": []
  }
 ],
 "metadata": {
  "kernelspec": {
   "display_name": "Python 3",
   "language": "python",
   "name": "python3"
  },
  "language_info": {
   "codemirror_mode": {
    "name": "ipython",
    "version": 3
   },
   "file_extension": ".py",
   "mimetype": "text/x-python",
   "name": "python",
   "nbconvert_exporter": "python",
   "pygments_lexer": "ipython3",
   "version": "3.6.5"
  }
 },
 "nbformat": 4,
 "nbformat_minor": 2
}
